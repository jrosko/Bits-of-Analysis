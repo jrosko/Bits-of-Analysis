{
  "nbformat": 4,
  "nbformat_minor": 0,
  "metadata": {
    "colab": {
      "name": "k-anonymity.ipynb",
      "provenance": [],
      "collapsed_sections": [],
      "toc_visible": true,
      "authorship_tag": "ABX9TyOYoEdB0IDnnlBnUGNrpNkU",
      "include_colab_link": true
    },
    "kernelspec": {
      "name": "python3",
      "display_name": "Python 3"
    }
  },
  "cells": [
    {
      "cell_type": "markdown",
      "metadata": {
        "id": "view-in-github",
        "colab_type": "text"
      },
      "source": [
        "<a href=\"https://colab.research.google.com/github/jrosko/Bits-of-Analysis/blob/master/k_anonymity.ipynb\" target=\"_parent\"><img src=\"https://colab.research.google.com/assets/colab-badge.svg\" alt=\"Open In Colab\"/></a>"
      ]
    },
    {
      "cell_type": "code",
      "metadata": {
        "id": "Lxs_6EsUfp5l"
      },
      "source": [
        "import pandas as pd\r\n",
        "import numpy as np"
      ],
      "execution_count": 51,
      "outputs": []
    },
    {
      "cell_type": "markdown",
      "metadata": {
        "id": "4Bc0NlKzJLPs"
      },
      "source": [
        "\r\n",
        "<font color='red'>a)\r\n",
        "Randomly generate a dataset (dataframe) with eight columns and 50,000 rows. Each\r\n",
        "column should be a categorical variable (of arbitrary name) with three levels (of arbitrary names) in approximately equal proportions.</font> "
      ]
    },
    {
      "cell_type": "markdown",
      "metadata": {
        "id": "tZG4kRo-8RW5"
      },
      "source": [
        "To begin I will define two functions\r\n",
        "\r\n",
        "1.   One to transform an octuple of random integers into an octuple of random qualitative variables, where integers $\\{0,1,2\\}$ get mapped to $\\rm \\{low, med, high\\}$\r\n",
        "2.   Second, to use the first function to create $n_{rows}$ octuples where each individual element is randomly picked from  $\\rm \\{low, med, high\\}$\r\n",
        "\r\n",
        "Afterwards, I use the second function to create the n=50 000 data set, and print the shape parameter"
      ]
    },
    {
      "cell_type": "code",
      "metadata": {
        "id": "VZ9C-Z63gMHw",
        "colab": {
          "base_uri": "https://localhost:8080/"
        },
        "outputId": "9d91c334-e094-4c37-807d-1f6cf19eb0e9"
      },
      "source": [
        "def int_to_str(array):\r\n",
        "    \"\"\" Takes an array of random integers, with 3 possible values, 0, 1 or 2.  Then replaces\r\n",
        "    0 with 'low', 1 with 'med' and 2 with 'high  \"\"\"\r\n",
        "    result=[]\r\n",
        "    for value in array:\r\n",
        "        if value==0:\r\n",
        "            result.append('low')\r\n",
        "        elif value==1:\r\n",
        "            result.append('med')\r\n",
        "        elif value==2:\r\n",
        "            result.append('high')\r\n",
        "    return result\r\n",
        "\r\n",
        "def make_sample(nrow):\r\n",
        "    \"\"\" Creates a sample of 'nrow' rows, where each row is an octuple [X_1, ..., X_8], and \r\n",
        "    each X is randomly chosen from the set {'low', 'med', 'high'}\"\"\"\r\n",
        "    result = []\r\n",
        "    for n in range(0,nrow):\r\n",
        "        rnd = np.random.randint(0,3,size=8)\r\n",
        "        values = int_to_str(rnd)\r\n",
        "        result.append(values)\r\n",
        "    return np.array(result)\r\n",
        "\r\n",
        "sample = make_sample(50000)\r\n",
        "sample.shape"
      ],
      "execution_count": 52,
      "outputs": [
        {
          "output_type": "execute_result",
          "data": {
            "text/plain": [
              "(50000, 8)"
            ]
          },
          "metadata": {
            "tags": []
          },
          "execution_count": 52
        }
      ]
    },
    {
      "cell_type": "markdown",
      "metadata": {
        "id": "bndKp9fFABFg"
      },
      "source": [
        "<font color='red'>  b)\r\n",
        "Verify that the proportions of each value are similar for each of the eight columns. </font>"
      ]
    },
    {
      "cell_type": "code",
      "metadata": {
        "id": "KRNktY_8i9FW",
        "colab": {
          "base_uri": "https://localhost:8080/",
          "height": 143
        },
        "outputId": "b63a0c88-a94a-42d8-8a10-28a254d4ea8e"
      },
      "source": [
        "def col_proportions(column):\r\n",
        "    \"\"\" Returns the number of 'low', 'med' and 'high', in list form,\r\n",
        "    for an input column vector \"\"\"\r\n",
        "    low, med, high = 0,0,0\r\n",
        "    for item in column:\r\n",
        "        if item=='low':\r\n",
        "            low = low + 1\r\n",
        "        elif item=='med':\r\n",
        "            med = med + 1\r\n",
        "        elif item=='high':\r\n",
        "            high = high + 1\r\n",
        "    return [low, med, high]\r\n",
        "\r\n",
        "# sample organised into column vectors\r\n",
        "col_vectors = sample.T\r\n",
        "# Auxiliary list of variable names\r\n",
        "varnames = ['Var'+str(n) for n in range(0,8)]\r\n",
        "# Compose a dictionary of type Var_name : [ n_low, n_med, n_high] for each of the 8 categorical variables\r\n",
        "col_propors = {varnames[n]:col_proportions(column) for (n,column) in enumerate(col_vectors)}\r\n",
        "# Use this to construct a dataframe\r\n",
        "df = pd.DataFrame(col_propors, index=['LOW', 'MED', 'HIGH'])\r\n",
        "# Print the output.\r\n",
        "df"
      ],
      "execution_count": 53,
      "outputs": [
        {
          "output_type": "execute_result",
          "data": {
            "text/html": [
              "<div>\n",
              "<style scoped>\n",
              "    .dataframe tbody tr th:only-of-type {\n",
              "        vertical-align: middle;\n",
              "    }\n",
              "\n",
              "    .dataframe tbody tr th {\n",
              "        vertical-align: top;\n",
              "    }\n",
              "\n",
              "    .dataframe thead th {\n",
              "        text-align: right;\n",
              "    }\n",
              "</style>\n",
              "<table border=\"1\" class=\"dataframe\">\n",
              "  <thead>\n",
              "    <tr style=\"text-align: right;\">\n",
              "      <th></th>\n",
              "      <th>Var0</th>\n",
              "      <th>Var1</th>\n",
              "      <th>Var2</th>\n",
              "      <th>Var3</th>\n",
              "      <th>Var4</th>\n",
              "      <th>Var5</th>\n",
              "      <th>Var6</th>\n",
              "      <th>Var7</th>\n",
              "    </tr>\n",
              "  </thead>\n",
              "  <tbody>\n",
              "    <tr>\n",
              "      <th>LOW</th>\n",
              "      <td>16743</td>\n",
              "      <td>16614</td>\n",
              "      <td>16654</td>\n",
              "      <td>16775</td>\n",
              "      <td>16662</td>\n",
              "      <td>16654</td>\n",
              "      <td>16606</td>\n",
              "      <td>16677</td>\n",
              "    </tr>\n",
              "    <tr>\n",
              "      <th>MED</th>\n",
              "      <td>16637</td>\n",
              "      <td>16762</td>\n",
              "      <td>16716</td>\n",
              "      <td>16630</td>\n",
              "      <td>16571</td>\n",
              "      <td>16783</td>\n",
              "      <td>16522</td>\n",
              "      <td>16563</td>\n",
              "    </tr>\n",
              "    <tr>\n",
              "      <th>HIGH</th>\n",
              "      <td>16620</td>\n",
              "      <td>16624</td>\n",
              "      <td>16630</td>\n",
              "      <td>16595</td>\n",
              "      <td>16767</td>\n",
              "      <td>16563</td>\n",
              "      <td>16872</td>\n",
              "      <td>16760</td>\n",
              "    </tr>\n",
              "  </tbody>\n",
              "</table>\n",
              "</div>"
            ],
            "text/plain": [
              "       Var0   Var1   Var2   Var3   Var4   Var5   Var6   Var7\n",
              "LOW   16743  16614  16654  16775  16662  16654  16606  16677\n",
              "MED   16637  16762  16716  16630  16571  16783  16522  16563\n",
              "HIGH  16620  16624  16630  16595  16767  16563  16872  16760"
            ]
          },
          "metadata": {
            "tags": []
          },
          "execution_count": 53
        }
      ]
    },
    {
      "cell_type": "markdown",
      "metadata": {
        "id": "oTq7rOsyKjbd"
      },
      "source": [
        "<font color='red'> c)How many unique rows (i.e., permutations of category levels) are possible?</font>\r\n",
        "\r\n",
        "It is theoretically possible to draw $\\rm 3^8 = 6561$ unique 8-tuples from a 3 variable set ('low', 'med', 'high'). Below we will computationally verify this while constructing a reference set used for counting and grouping identical 8-tuples in the 'experimental' sample"
      ]
    },
    {
      "cell_type": "markdown",
      "metadata": {
        "id": "4T49067-Ltty"
      },
      "source": [
        "<font color='red'> d) Write some code to produce a table and graph which show the frequencies (numbers\r\n",
        "of groups) by permutation group sizes (up to group size of 10). </font>"
      ]
    },
    {
      "cell_type": "markdown",
      "metadata": {
        "id": "C2lI5fx_Ifxl"
      },
      "source": [
        "To solve this, I will produce an array of row-vectors containing of all possible unique 8-tuples (reference set). Then I will pick out the reference tuples one by one, and compare it against each of the 50 000 row-vectors in the data sample. Every time I find >= 10 matches for a given reference tuple, I will terminate the search, to save on computation time."
      ]
    },
    {
      "cell_type": "code",
      "metadata": {
        "id": "VSRM2yucANVi",
        "colab": {
          "base_uri": "https://localhost:8080/"
        },
        "outputId": "cf7bc8fb-c7b0-491e-c6c8-d48a505f4ed9"
      },
      "source": [
        "import itertools\r\n",
        "reference = itertools.product(['low','med', 'high'], repeat=8)\r\n",
        "reference = tuple(reference)\r\n",
        "#Check the size of the reference sample\r\n",
        "print('Size of the reference sample',len(reference))\r\n",
        "\r\n",
        "all_sizes=[]\r\n",
        "for N in [50000]: # [] as I had a list of different sizes at some point, still used the result for N=30k to make the plot below\r\n",
        "    sample = make_sample(N)\r\n",
        "    counts = np.zeros(len(reference)).astype(int)\r\n",
        "    sizes = np.zeros(11).astype(int) # An array of length 11, which will increment the m-th index, every time a group of m identical tuples is found\r\n",
        "    k=0\r\n",
        "    for row_r in reference:\r\n",
        "        for row_s in sample:\r\n",
        "          if row_r==tuple(row_s):\r\n",
        "              counts[k] += 1\r\n",
        "          if counts[k]==10:\r\n",
        "              break\r\n",
        "        sizes[counts[k]] = sizes[counts[k]] + 1\r\n",
        "        k = k + 1\r\n",
        "    all_sizes.append(sizes)\r\n"
      ],
      "execution_count": 54,
      "outputs": [
        {
          "output_type": "stream",
          "text": [
            "Size of the reference sample 6561\n"
          ],
          "name": "stdout"
        }
      ]
    },
    {
      "cell_type": "code",
      "metadata": {
        "colab": {
          "base_uri": "https://localhost:8080/"
        },
        "id": "hbp7wdXmfA73",
        "outputId": "da19af5b-66a4-4cdd-f3d4-e2b564f48351"
      },
      "source": [
        "all_sizes"
      ],
      "execution_count": 57,
      "outputs": [
        {
          "output_type": "execute_result",
          "data": {
            "text/plain": [
              "[array([   5,   23,   95,  241,  460,  700,  880,  911,  916,  779, 1551])]"
            ]
          },
          "metadata": {
            "tags": []
          },
          "execution_count": 57
        }
      ]
    },
    {
      "cell_type": "markdown",
      "metadata": {
        "id": "zWWZejt2MY0b"
      },
      "source": [
        "Produce the group size table for the n=50000 sample, and graph the group size distribution. The group size = 10 value is plotted as an outlier of the distribution, as it contains values that would have been resolved into higher group size bins if the counting cut off was >10."
      ]
    },
    {
      "cell_type": "code",
      "metadata": {
        "colab": {
          "base_uri": "https://localhost:8080/",
          "height": 657
        },
        "id": "UDjdx7JjBGI6",
        "outputId": "26eb3ec7-9689-4b16-f148-7ce73a148571"
      },
      "source": [
        "import matplotlib.pyplot as plt\r\n",
        "from scipy.optimize import least_squares\r\n",
        "\r\n",
        "x_ax = np.arange(0,11,1)\r\n",
        "plt.plot(x_ax[:-1], all_sizes[0][:-1], '-', color='red', label = 'N=50000')\r\n",
        "plt.plot(x_ax[-1], all_sizes[0][-1], 'o', color='red')\r\n",
        "##plt.plot(x_ax[:], all_sizes[1][:], '-', color='orange', label = 'N=30000')\r\n",
        "plt.legend()\r\n",
        "plt.xticks(x_ax)\r\n",
        "plt.xlabel('Group Size')\r\n",
        "plt.ylabel('Frequency')\r\n",
        "plt.show()\r\n",
        "\r\n",
        "# Make a table\r\n",
        "groupfreq = {'Group Size' : x_ax, 'Frequency' : all_sizes[0] }\r\n",
        "groupfreq_frame = pd.DataFrame(groupfreq,index=['']*11)\r\n",
        "# Print the output.\r\n",
        "groupfreq_frame"
      ],
      "execution_count": 61,
      "outputs": [
        {
          "output_type": "display_data",
          "data": {
            "image/png": "[encoded data removed]",
            "text/plain": [
              "<Figure size 432x288 with 1 Axes>"
            ]
          },
          "metadata": {
            "tags": [],
            "needs_background": "light"
          }
        },
        {
          "output_type": "execute_result",
          "data": {
            "text/html": [
              "<div>\n",
              "<style scoped>\n",
              "    .dataframe tbody tr th:only-of-type {\n",
              "        vertical-align: middle;\n",
              "    }\n",
              "\n",
              "    .dataframe tbody tr th {\n",
              "        vertical-align: top;\n",
              "    }\n",
              "\n",
              "    .dataframe thead th {\n",
              "        text-align: right;\n",
              "    }\n",
              "</style>\n",
              "<table border=\"1\" class=\"dataframe\">\n",
              "  <thead>\n",
              "    <tr style=\"text-align: right;\">\n",
              "      <th></th>\n",
              "      <th>Group Size</th>\n",
              "      <th>Frequency</th>\n",
              "    </tr>\n",
              "  </thead>\n",
              "  <tbody>\n",
              "    <tr>\n",
              "      <th></th>\n",
              "      <td>0</td>\n",
              "      <td>5</td>\n",
              "    </tr>\n",
              "    <tr>\n",
              "      <th></th>\n",
              "      <td>1</td>\n",
              "      <td>23</td>\n",
              "    </tr>\n",
              "    <tr>\n",
              "      <th></th>\n",
              "      <td>2</td>\n",
              "      <td>95</td>\n",
              "    </tr>\n",
              "    <tr>\n",
              "      <th></th>\n",
              "      <td>3</td>\n",
              "      <td>241</td>\n",
              "    </tr>\n",
              "    <tr>\n",
              "      <th></th>\n",
              "      <td>4</td>\n",
              "      <td>460</td>\n",
              "    </tr>\n",
              "    <tr>\n",
              "      <th></th>\n",
              "      <td>5</td>\n",
              "      <td>700</td>\n",
              "    </tr>\n",
              "    <tr>\n",
              "      <th></th>\n",
              "      <td>6</td>\n",
              "      <td>880</td>\n",
              "    </tr>\n",
              "    <tr>\n",
              "      <th></th>\n",
              "      <td>7</td>\n",
              "      <td>911</td>\n",
              "    </tr>\n",
              "    <tr>\n",
              "      <th></th>\n",
              "      <td>8</td>\n",
              "      <td>916</td>\n",
              "    </tr>\n",
              "    <tr>\n",
              "      <th></th>\n",
              "      <td>9</td>\n",
              "      <td>779</td>\n",
              "    </tr>\n",
              "    <tr>\n",
              "      <th></th>\n",
              "      <td>10</td>\n",
              "      <td>1551</td>\n",
              "    </tr>\n",
              "  </tbody>\n",
              "</table>\n",
              "</div>"
            ],
            "text/plain": [
              "  Group Size  Frequency\n",
              "           0          5\n",
              "           1         23\n",
              "           2         95\n",
              "           3        241\n",
              "           4        460\n",
              "           5        700\n",
              "           6        880\n",
              "           7        911\n",
              "           8        916\n",
              "           9        779\n",
              "          10       1551"
            ]
          },
          "metadata": {
            "tags": []
          },
          "execution_count": 61
        }
      ]
    },
    {
      "cell_type": "code",
      "metadata": {
        "id": "MKjJQ2oAe3Wn"
      },
      "source": [
        "all_sizes[1]"
      ],
      "execution_count": null,
      "outputs": []
    },
    {
      "cell_type": "markdown",
      "metadata": {
        "id": "NXNX5uxePP6w"
      },
      "source": [
        "<font color='red'> e)\r\n",
        "Comment upon the distribution of group sizes in d).</font>\r\n",
        "\r\n",
        "The group sizes are distributed around a mean that depends on the size of the initial sample. \r\n",
        "For samples of size N=30 000 and below, the distribution has a long tail and the mass is concentrated at lower group sizes.\r\n",
        "However, the mean value drifts to the right with increasing N, and the distribution becomes symmetric when N is around 50 000. In the plot above this is not entirely visible as the group size counting cut off needs to be larger \r\n",
        "\r\n",
        "<font color='red'> \r\n",
        "\r\n",
        "f)\r\n",
        "If your random variables were, in fact, meaningful information on individuals, which\r\n",
        "group sizes are of most concern from a privacy perspective? </font>\r\n",
        "\r\n",
        "Small group sizes would be most problematic. When a set of parameters is less common, the individuals are more identifiable. Especially when there is plenty of additional information available online (social media footprint, phone books, advertising data) that can be cross referenced with whatever is inferred from patient records. \r\n",
        "\r\n",
        "<font color='red'>g)\r\n",
        "Consider the effect of missing data in the dataset you created in Part a). How might\r\n",
        "this complicate the production of a frequency table of group sizes in Part d)? </font>\r\n",
        "\r\n",
        "Randomly occuring missing data would essentially add another level to the categorical variables. This would take away members from some of the groups, and depending on the proportion of the 'missing data variable', cause a redistribution of sizes towards smaller groups.\r\n",
        "\r\n"
      ]
    }
  ]
}