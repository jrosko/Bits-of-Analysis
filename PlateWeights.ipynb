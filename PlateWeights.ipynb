{
  "nbformat": 4,
  "nbformat_minor": 0,
  "metadata": {
    "colab": {
      "name": "Untitled1.ipynb",
      "provenance": [],
      "collapsed_sections": [],
      "authorship_tag": "ABX9TyNc2mv5NPsGt0sE0FTQrejf",
      "include_colab_link": true
    },
    "kernelspec": {
      "name": "python3",
      "display_name": "Python 3"
    }
  },
  "cells": [
    {
      "cell_type": "markdown",
      "metadata": {
        "id": "view-in-github",
        "colab_type": "text"
      },
      "source": [
        "<a href=\"https://colab.research.google.com/github/jrosko/Bits-of-Analysis/blob/master/PlateWeights.ipynb\" target=\"_parent\"><img src=\"https://colab.research.google.com/assets/colab-badge.svg\" alt=\"Open In Colab\"/></a>"
      ]
    },
    {
      "cell_type": "code",
      "metadata": {
        "id": "1ieShNDikZk8"
      },
      "source": [
        "import numpy as np\n",
        "import matplotlib.pyplot as plt\n",
        "times = [0.13, 2.68, 4.28, 5.12, 22.57, 25.52, 27.12, 50.92, 52.64, 68.64, 71.34, 76.59]\n",
        "mg_unpara = [17007, 16992, 16984, 16980, 16908, 16896, 16887, 16784, 16775, 16702, 16688, 16653]\n",
        "mg_unpara = [x-mg_unpara[0] for x in mg_unpara]\n",
        "mg_open = [13568, 13158, 12908, 12781, 10791]\n",
        "mg_open = [x-mg_open[0] for x in mg_open]\n",
        "mg_para = [17214, 17213,17213,17213,17211, 17210, 17210, 17206, 17207, 17204, 17203, 17203 ]\n",
        "mg_para = [x-mg_para[0] for x in mg_para]"
      ],
      "execution_count": 18,
      "outputs": []
    },
    {
      "cell_type": "code",
      "metadata": {
        "id": "JXejG5ARlD0e",
        "outputId": "38fe89fa-ea3c-4a7d-8b36-0626f099c3d2",
        "colab": {
          "base_uri": "https://localhost:8080/",
          "height": 283
        }
      },
      "source": [
        "plt.plot(times, mg_unpara, 'o', color = 'blue')\n",
        "#plt.plot(times[0:5], mg_open, 'o', color ='orange')\n",
        "plt.plot(times, mg_para, 'o', color = 'green')\n",
        "plt.show"
      ],
      "execution_count": 19,
      "outputs": [
        {
          "output_type": "execute_result",
          "data": {
            "text/plain": [
              "<function matplotlib.pyplot.show>"
            ]
          },
          "metadata": {
            "tags": []
          },
          "execution_count": 19
        },
        {
          "output_type": "display_data",
          "data": {
            "image/png": "[encoded data removed]",
            "text/plain": [
              "<Figure size 432x288 with 1 Axes>"
            ]
          },
          "metadata": {
            "tags": [],
            "needs_background": "light"
          }
        }
      ]
    },
    {
      "cell_type": "markdown",
      "metadata": {
        "id": "e8ctZ2JBqN9i"
      },
      "source": [
        "**30.09.2020**\n",
        "\n",
        "Plate water loss after overnight incubation at 37 C\n",
        "\n",
        "Condition |0.4 %  | 0.5 %\n",
        "---|--- | ---\n",
        "Parafilmed | 262 mg | 363 mg\n",
        "Un-Parafilmed | 64 mg | 353 mg\n",
        "\n"
      ]
    }
  ]
}